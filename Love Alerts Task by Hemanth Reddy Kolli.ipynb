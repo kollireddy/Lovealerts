{
 "cells": [
  {
   "cell_type": "markdown",
   "metadata": {},
   "source": [
    "# Machine Learning Task"
   ]
  },
  {
   "cell_type": "markdown",
   "metadata": {},
   "source": [
    "<font color='blue'>Task:\n",
    "1. User applies for a job and receive a confirmation email.\n",
    "2. The subject of the email contains the keywords \"Thank you for applying\".\n",
    "3. User applies for n number of jobs and receives n number of emails, subject containing the keywords \"Thank you for applying\".\n",
    "4. Filter out all the emails received after applying for a job.</font>"
   ]
  },
  {
   "cell_type": "markdown",
   "metadata": {},
   "source": [
    "Before going ahead there are few things to be Considered in order to Scrap Emails from Google\n",
    "\n",
    "<b>Step 1:</b> Open Your Gmail Account > Click On Settings > Click on See All settings.\n",
    "\n",
    " Once You have Opened\n",
    "\n",
    "<b>Step 2:</b> Click on Forwarding and POP/IMAP.\n",
    "\n",
    "You will find something like this."
   ]
  },
  {
   "cell_type": "markdown",
   "metadata": {},
   "source": [
    "![](img/Googlesettings.png)"
   ]
  },
  {
   "cell_type": "markdown",
   "metadata": {},
   "source": [
    "![Settings](imap.JPG)"
   ]
  },
  {
   "cell_type": "markdown",
   "metadata": {},
   "source": [
    "<b>Step 3:</b> Now Enable IMAP similar to the above image.\n",
    "As you can see in the <b>Status</b>:<font color='Green'><b>IMAP is enabled</b></font>\n",
    "\n",
    "<b>Step 4:</b>\n",
    "\n",
    "Now you have turn on a feature called <font color='Blue'><b>Allow less secure apps:</b></font><font color='Green'><b> ON </b></font>\n",
    "\n",
    "<font color='Brown'>Follow the link Inorder to turn it on.</font>\n",
    "https://myaccount.google.com/lesssecureapps?pli=1&rapt=AEjHL4Me9ziY1AfwL5sQxRsAMEjmE9OasfHF8DiVgEXngdodXLpevKQnVMt-MumlDst1oMpP8PY30RWW7TsZhbf0gic50F_h5g  \n",
    "\n",
    "<b>Note:<b> <font color='Red'> Incase if you Doesnt Turn it on then you can log into your Google Account and it sends an alert immediatly to your mail."
   ]
  },
  {
   "cell_type": "markdown",
   "metadata": {},
   "source": [
    "* Once You have finished these things then you are good to go and execute the program.\n",
    "\n",
    "* Once You Execute the Program You re Asked to Provide Your Email Id & password to get the output. "
   ]
  },
  {
   "cell_type": "markdown",
   "metadata": {},
   "source": [
    "."
   ]
  },
  {
   "cell_type": "code",
   "execution_count": null,
   "metadata": {},
   "outputs": [],
   "source": [
    "#importing all the required statements\n",
    "import imaplib\n",
    "import base64\n",
    "import email\n",
    "import os\n",
    "import re\n",
    "import pandas as pd\n",
    "\n",
    "def email_read():\n",
    "    mail = imaplib.IMAP4_SSL(\"imap.gmail.com\",993)\n",
    "    email_id=input(\"Enter Your Email id:\")\n",
    "    paswrd=input(\"Enter Your Password:\")\n",
    "    mail.login(email_id,paswrd)\n",
    "    mail.select('Inbox')\n",
    "    type, data = mail.search(None, 'ALL')\n",
    "    mail_ids = data[0]\n",
    "    id_list = mail_ids.split()\n",
    "    latest_id=int(id_list[-1])\n",
    "    last_id=0\n",
    "    frm=[]\n",
    "    sub=[]\n",
    "    category=[]\n",
    "    for i in range(last_id+1,latest_id+1):\n",
    "        typ, data = mail.fetch(str(i), '(RFC822)' )\n",
    "        for response_part in data:\n",
    "            if isinstance(response_part, tuple):\n",
    "                msg=email.message_from_string(response_part[1].decode(\"utf8\"))\n",
    "                email_subject=msg['subject']\n",
    "                sub.append(email_subject)\n",
    "                fnd=re.findall(\"Thank you for applying\", email_subject)\n",
    "                if len(fnd)>0:\n",
    "                    category.append(\"JOB\")\n",
    "                else:\n",
    "                    category.append(\"Not a Job\")\n",
    "                email_from=msg['from']\n",
    "                frm.append(email_from)\n",
    "                #print(\"From:\" + email_from +'\\n')\n",
    "                #print(\"Subject:\" + email_subject +'\\n')\n",
    "    dict={\"From\":frm, \"Subject\":sub,\"Type\":category}\n",
    "    df = pd.DataFrame(dict)\n",
    "    return df\n",
    "email_read()"
   ]
  },
  {
   "cell_type": "markdown",
   "metadata": {},
   "source": [
    "."
   ]
  },
  {
   "cell_type": "markdown",
   "metadata": {},
   "source": [
    "<b>Output:</b>\n",
    "The Output will be Categorised into Job and Not a Job based on the Keyword(Thank you for applying) which you have defined.\n",
    "Regular Expressions are used inorder to categorise the data.\n",
    "\n",
    "-> Output Contains the Columns <b> From </b>,<b> Subject </b>,<b> Type </b>\n",
    "\n",
    "![Sample Output](output.JPG)\n",
    "\n",
    "\n",
    "-> we can also add body of the mail where you need to do a lot of preprocessing like seperating the multipart, html and plain text and attachments. For now i m skipping it as you havent specified what is needed exactly.it can be added if required."
   ]
  }
 ],
 "metadata": {
  "kernelspec": {
   "display_name": "Python 3",
   "language": "python",
   "name": "python3"
  },
  "language_info": {
   "codemirror_mode": {
    "name": "ipython",
    "version": 3
   },
   "file_extension": ".py",
   "mimetype": "text/x-python",
   "name": "python",
   "nbconvert_exporter": "python",
   "pygments_lexer": "ipython3",
   "version": "3.7.6"
  }
 },
 "nbformat": 4,
 "nbformat_minor": 4
}
